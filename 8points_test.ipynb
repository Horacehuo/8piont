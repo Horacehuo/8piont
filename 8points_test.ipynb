{
 "cells": [
  {
   "cell_type": "code",
   "execution_count": 282,
   "metadata": {},
   "outputs": [],
   "source": [
    "import pandas as pd\n",
    "import numpy as np\n",
    "\n",
    "import plotly.plotly as py\n",
    "import plotly.graph_objs as go"
   ]
  },
  {
   "cell_type": "code",
   "execution_count": 283,
   "metadata": {},
   "outputs": [],
   "source": [
    "#import data \n",
    "mydata =  pd.read_csv('Data for Eightpoint BIA Case Study.csv')"
   ]
  },
  {
   "cell_type": "code",
   "execution_count": 284,
   "metadata": {},
   "outputs": [
    {
     "data": {
      "text/html": [
       "<div>\n",
       "<style scoped>\n",
       "    .dataframe tbody tr th:only-of-type {\n",
       "        vertical-align: middle;\n",
       "    }\n",
       "\n",
       "    .dataframe tbody tr th {\n",
       "        vertical-align: top;\n",
       "    }\n",
       "\n",
       "    .dataframe thead th {\n",
       "        text-align: right;\n",
       "    }\n",
       "</style>\n",
       "<table border=\"1\" class=\"dataframe\">\n",
       "  <thead>\n",
       "    <tr style=\"text-align: right;\">\n",
       "      <th></th>\n",
       "      <th>date</th>\n",
       "      <th>userclass</th>\n",
       "      <th>vertical</th>\n",
       "      <th>affiliate</th>\n",
       "      <th>browser</th>\n",
       "      <th>clicks</th>\n",
       "      <th>age</th>\n",
       "      <th>rpc</th>\n",
       "      <th>installs</th>\n",
       "      <th>revenue</th>\n",
       "      <th>UCWeek</th>\n",
       "      <th>UCMonth</th>\n",
       "      <th>UCYear</th>\n",
       "      <th>source</th>\n",
       "    </tr>\n",
       "  </thead>\n",
       "  <tbody>\n",
       "    <tr>\n",
       "      <th>0</th>\n",
       "      <td>2017/10/25</td>\n",
       "      <td>2017/10/25</td>\n",
       "      <td>maps_1</td>\n",
       "      <td>appfocus1</td>\n",
       "      <td>Chrome</td>\n",
       "      <td>13</td>\n",
       "      <td>0</td>\n",
       "      <td>0.4436</td>\n",
       "      <td>37</td>\n",
       "      <td>5.7668</td>\n",
       "      <td>43</td>\n",
       "      <td>10</td>\n",
       "      <td>2017</td>\n",
       "      <td>googlepartner</td>\n",
       "    </tr>\n",
       "    <tr>\n",
       "      <th>1</th>\n",
       "      <td>2017/10/25</td>\n",
       "      <td>2017/10/25</td>\n",
       "      <td>maps_1</td>\n",
       "      <td>appfocus1</td>\n",
       "      <td>Chrome</td>\n",
       "      <td>1140</td>\n",
       "      <td>0</td>\n",
       "      <td>0.4436</td>\n",
       "      <td>2914</td>\n",
       "      <td>505.7040</td>\n",
       "      <td>43</td>\n",
       "      <td>10</td>\n",
       "      <td>2017</td>\n",
       "      <td>search</td>\n",
       "    </tr>\n",
       "    <tr>\n",
       "      <th>2</th>\n",
       "      <td>2017/10/25</td>\n",
       "      <td>2017/10/25</td>\n",
       "      <td>maps</td>\n",
       "      <td>appfocus84</td>\n",
       "      <td>Chrome</td>\n",
       "      <td>2189</td>\n",
       "      <td>0</td>\n",
       "      <td>0.4436</td>\n",
       "      <td>7543</td>\n",
       "      <td>971.0404</td>\n",
       "      <td>43</td>\n",
       "      <td>10</td>\n",
       "      <td>2017</td>\n",
       "      <td>NaN</td>\n",
       "    </tr>\n",
       "    <tr>\n",
       "      <th>3</th>\n",
       "      <td>2017/10/25</td>\n",
       "      <td>2017/10/25</td>\n",
       "      <td>maps_1</td>\n",
       "      <td>appfocus1</td>\n",
       "      <td>Firefox</td>\n",
       "      <td>1</td>\n",
       "      <td>0</td>\n",
       "      <td>0.4436</td>\n",
       "      <td>6</td>\n",
       "      <td>0.4436</td>\n",
       "      <td>43</td>\n",
       "      <td>10</td>\n",
       "      <td>2017</td>\n",
       "      <td>googlepartner</td>\n",
       "    </tr>\n",
       "    <tr>\n",
       "      <th>4</th>\n",
       "      <td>2017/10/25</td>\n",
       "      <td>2017/10/25</td>\n",
       "      <td>maps_1</td>\n",
       "      <td>appfocus1</td>\n",
       "      <td>Firefox</td>\n",
       "      <td>123</td>\n",
       "      <td>0</td>\n",
       "      <td>0.4436</td>\n",
       "      <td>170</td>\n",
       "      <td>54.5628</td>\n",
       "      <td>43</td>\n",
       "      <td>10</td>\n",
       "      <td>2017</td>\n",
       "      <td>search</td>\n",
       "    </tr>\n",
       "  </tbody>\n",
       "</table>\n",
       "</div>"
      ],
      "text/plain": [
       "         date   userclass vertical   affiliate  browser  clicks  age     rpc  \\\n",
       "0  2017/10/25  2017/10/25   maps_1   appfocus1   Chrome      13    0  0.4436   \n",
       "1  2017/10/25  2017/10/25   maps_1   appfocus1   Chrome    1140    0  0.4436   \n",
       "2  2017/10/25  2017/10/25     maps  appfocus84   Chrome    2189    0  0.4436   \n",
       "3  2017/10/25  2017/10/25   maps_1   appfocus1  Firefox       1    0  0.4436   \n",
       "4  2017/10/25  2017/10/25   maps_1   appfocus1  Firefox     123    0  0.4436   \n",
       "\n",
       "   installs   revenue  UCWeek  UCMonth  UCYear         source  \n",
       "0        37    5.7668      43       10    2017  googlepartner  \n",
       "1      2914  505.7040      43       10    2017         search  \n",
       "2      7543  971.0404      43       10    2017            NaN  \n",
       "3         6    0.4436      43       10    2017  googlepartner  \n",
       "4       170   54.5628      43       10    2017         search  "
      ]
     },
     "execution_count": 284,
     "metadata": {},
     "output_type": "execute_result"
    }
   ],
   "source": [
    "#have a glance at table\n",
    "mydata.head()"
   ]
  },
  {
   "cell_type": "code",
   "execution_count": 285,
   "metadata": {},
   "outputs": [],
   "source": [
    "# Q1\n",
    "data=mydata[mydata['UCMonth']==10]\n",
    "df=data.groupby(['affiliate'])['revenue','installs'].agg('sum')"
   ]
  },
  {
   "cell_type": "code",
   "execution_count": null,
   "metadata": {},
   "outputs": [],
   "source": [
    "#Q1"
   ]
  },
  {
   "cell_type": "code",
   "execution_count": 286,
   "metadata": {},
   "outputs": [],
   "source": [
    "df['RPI']=df.revenue/df.installs"
   ]
  },
  {
   "cell_type": "code",
   "execution_count": 287,
   "metadata": {},
   "outputs": [
    {
     "data": {
      "text/html": [
       "<div>\n",
       "<style scoped>\n",
       "    .dataframe tbody tr th:only-of-type {\n",
       "        vertical-align: middle;\n",
       "    }\n",
       "\n",
       "    .dataframe tbody tr th {\n",
       "        vertical-align: top;\n",
       "    }\n",
       "\n",
       "    .dataframe thead th {\n",
       "        text-align: right;\n",
       "    }\n",
       "</style>\n",
       "<table border=\"1\" class=\"dataframe\">\n",
       "  <thead>\n",
       "    <tr style=\"text-align: right;\">\n",
       "      <th></th>\n",
       "      <th>revenue</th>\n",
       "      <th>installs</th>\n",
       "      <th>RPI</th>\n",
       "    </tr>\n",
       "    <tr>\n",
       "      <th>affiliate</th>\n",
       "      <th></th>\n",
       "      <th></th>\n",
       "      <th></th>\n",
       "    </tr>\n",
       "  </thead>\n",
       "  <tbody>\n",
       "    <tr>\n",
       "      <th>appfocus1</th>\n",
       "      <td>53603.0929</td>\n",
       "      <td>809580</td>\n",
       "      <td>0.066211</td>\n",
       "    </tr>\n",
       "    <tr>\n",
       "      <th>appfocus84</th>\n",
       "      <td>174478.7615</td>\n",
       "      <td>2768181</td>\n",
       "      <td>0.063030</td>\n",
       "    </tr>\n",
       "  </tbody>\n",
       "</table>\n",
       "</div>"
      ],
      "text/plain": [
       "                revenue  installs       RPI\n",
       "affiliate                                  \n",
       "appfocus1    53603.0929    809580  0.066211\n",
       "appfocus84  174478.7615   2768181  0.063030"
      ]
     },
     "execution_count": 287,
     "metadata": {},
     "output_type": "execute_result"
    }
   ],
   "source": [
    "df"
   ]
  },
  {
   "cell_type": "code",
   "execution_count": 288,
   "metadata": {},
   "outputs": [
    {
     "data": {
      "text/html": [
       "<iframe id=\"igraph\" scrolling=\"no\" style=\"border:none;\" seamless=\"seamless\" src=\"https://plot.ly/~junchenghuo/45.embed\" height=\"525px\" width=\"100%\"></iframe>"
      ],
      "text/plain": [
       "<plotly.tools.PlotlyDisplay object>"
      ]
     },
     "execution_count": 288,
     "metadata": {},
     "output_type": "execute_result"
    }
   ],
   "source": [
    "trace0 = go.Bar(\n",
    "    x=['appfocus1', 'appfocus84'],\n",
    "    y=[0.066211, 0.063030],\n",
    "    marker=dict(\n",
    "        color=['rgba(222,45,38,0.8)','rgba(204,204,204,1)']),\n",
    ")\n",
    "\n",
    "data = [trace0]\n",
    "layout = go.Layout(\n",
    "    title='RPI',\n",
    ")\n",
    "\n",
    "fig = go.Figure(data=data, layout=layout)\n",
    "py.iplot(fig, filename='color-bar1')"
   ]
  },
  {
   "cell_type": "code",
   "execution_count": 46,
   "metadata": {},
   "outputs": [],
   "source": [
    "#Q2"
   ]
  },
  {
   "cell_type": "code",
   "execution_count": 289,
   "metadata": {},
   "outputs": [],
   "source": [
    "data=mydata\n",
    "data_1=data[data.affiliate=='appfocus1']\n",
    "data_84=data[data.affiliate=='appfocus84']\n",
    "# df=data.groupby(['affiliate','age'])['revenue','installs'].agg('sum')"
   ]
  },
  {
   "cell_type": "code",
   "execution_count": 290,
   "metadata": {},
   "outputs": [],
   "source": [
    "df1=data_1.groupby(['age'])['revenue','installs'].agg('sum')\n",
    "df1['RPI']=df1.revenue/df1.installs\n",
    "\n",
    "df84=data_84.groupby(['age'])['revenue','installs'].agg('sum')\n",
    "df84['RPI']=df84.revenue/df84.installs"
   ]
  },
  {
   "cell_type": "code",
   "execution_count": null,
   "metadata": {},
   "outputs": [],
   "source": []
  },
  {
   "cell_type": "code",
   "execution_count": 291,
   "metadata": {},
   "outputs": [
    {
     "data": {
      "text/html": [
       "<iframe id=\"igraph\" scrolling=\"no\" style=\"border:none;\" seamless=\"seamless\" src=\"https://plot.ly/~junchenghuo/47.embed\" height=\"525px\" width=\"100%\"></iframe>"
      ],
      "text/plain": [
       "<plotly.tools.PlotlyDisplay object>"
      ]
     },
     "execution_count": 291,
     "metadata": {},
     "output_type": "execute_result"
    }
   ],
   "source": [
    "trace0 = go.Bar(\n",
    "    x=df1.index,\n",
    "    y=df1.RPI,\n",
    "    name='appfocus1',\n",
    "    marker=dict(\n",
    "        color='rgb(49,130,189)'\n",
    "    )\n",
    ")\n",
    "trace1 = go.Bar(\n",
    "    x=df84.index,\n",
    "    y=df84.RPI,\n",
    "    name='appfocus84',\n",
    "    marker=dict(\n",
    "        color='rgb(204,204,204)',\n",
    "    )\n",
    ")\n",
    "\n",
    "data = [trace0, trace1]\n",
    "layout = go.Layout(\n",
    "    xaxis=dict(tickangle=-45),\n",
    "    barmode='group',\n",
    ")\n",
    "\n",
    "fig = go.Figure(data=data, layout=layout)\n",
    "py.iplot(fig, filename='angled-text-bar2')"
   ]
  },
  {
   "cell_type": "code",
   "execution_count": 138,
   "metadata": {},
   "outputs": [
    {
     "data": {
      "text/plain": [
       "age\n",
       "81    0.022490\n",
       "82    0.022544\n",
       "83    0.022772\n",
       "84    0.023124\n",
       "85    0.023433\n",
       "Name: RPI, dtype: float64"
      ]
     },
     "execution_count": 138,
     "metadata": {},
     "output_type": "execute_result"
    }
   ],
   "source": [
    "#Use moving average method to estimate the RPI at age(80-120)\n",
    "\n",
    "# df1\n",
    "MovingAverage = df1.rolling(window=20).mean()\n",
    "MovingAverage.RPI.tail()\n",
    "\n",
    "# 0.023433 is the estimated RPI"
   ]
  },
  {
   "cell_type": "code",
   "execution_count": 139,
   "metadata": {},
   "outputs": [
    {
     "data": {
      "text/plain": [
       "age\n",
       "81    0.009478\n",
       "82    0.009489\n",
       "83    0.009539\n",
       "84    0.009629\n",
       "85    0.009710\n",
       "Name: RPI, dtype: float64"
      ]
     },
     "execution_count": 139,
     "metadata": {},
     "output_type": "execute_result"
    }
   ],
   "source": [
    "# df84\n",
    "MovingAverage = df84.rolling(window=20).mean()\n",
    "MovingAverage.RPI.tail()\n",
    "# 0.009710 is the estimated RPI"
   ]
  },
  {
   "cell_type": "code",
   "execution_count": 146,
   "metadata": {},
   "outputs": [
    {
     "data": {
      "text/plain": [
       "3.727822839199746"
      ]
     },
     "execution_count": 146,
     "metadata": {},
     "output_type": "execute_result"
    }
   ],
   "source": [
    "# LTV for appfocus1 is \n",
    "df1.RPI.sum()+0.023433*(120-85)"
   ]
  },
  {
   "cell_type": "code",
   "execution_count": 147,
   "metadata": {},
   "outputs": [
    {
     "data": {
      "text/plain": [
       "1.8606146938493258"
      ]
     },
     "execution_count": 147,
     "metadata": {},
     "output_type": "execute_result"
    }
   ],
   "source": [
    "# LTV for appfocus84 is \n",
    "df84.RPI.sum()+0.009710*(120-85)"
   ]
  },
  {
   "cell_type": "code",
   "execution_count": 158,
   "metadata": {},
   "outputs": [],
   "source": [
    "#Q3\n",
    "\n",
    "\n",
    "data_3=mydata[mydata.affiliate=='appfocus84']\n",
    "df_3=data_3.groupby(['UCMonth'])['revenue','installs'].agg('sum')\n",
    "df_3['RPI']=df_3.revenue/df_3.installs"
   ]
  },
  {
   "cell_type": "code",
   "execution_count": 159,
   "metadata": {},
   "outputs": [
    {
     "data": {
      "text/html": [
       "<div>\n",
       "<style scoped>\n",
       "    .dataframe tbody tr th:only-of-type {\n",
       "        vertical-align: middle;\n",
       "    }\n",
       "\n",
       "    .dataframe tbody tr th {\n",
       "        vertical-align: top;\n",
       "    }\n",
       "\n",
       "    .dataframe thead th {\n",
       "        text-align: right;\n",
       "    }\n",
       "</style>\n",
       "<table border=\"1\" class=\"dataframe\">\n",
       "  <thead>\n",
       "    <tr style=\"text-align: right;\">\n",
       "      <th></th>\n",
       "      <th>revenue</th>\n",
       "      <th>installs</th>\n",
       "      <th>RPI</th>\n",
       "    </tr>\n",
       "    <tr>\n",
       "      <th>UCMonth</th>\n",
       "      <th></th>\n",
       "      <th></th>\n",
       "      <th></th>\n",
       "    </tr>\n",
       "  </thead>\n",
       "  <tbody>\n",
       "    <tr>\n",
       "      <th>8</th>\n",
       "      <td>270036.1181</td>\n",
       "      <td>18349595</td>\n",
       "      <td>0.014716</td>\n",
       "    </tr>\n",
       "    <tr>\n",
       "      <th>9</th>\n",
       "      <td>300290.9465</td>\n",
       "      <td>11063397</td>\n",
       "      <td>0.027143</td>\n",
       "    </tr>\n",
       "    <tr>\n",
       "      <th>10</th>\n",
       "      <td>174478.7615</td>\n",
       "      <td>2768181</td>\n",
       "      <td>0.063030</td>\n",
       "    </tr>\n",
       "  </tbody>\n",
       "</table>\n",
       "</div>"
      ],
      "text/plain": [
       "             revenue  installs       RPI\n",
       "UCMonth                                 \n",
       "8        270036.1181  18349595  0.014716\n",
       "9        300290.9465  11063397  0.027143\n",
       "10       174478.7615   2768181  0.063030"
      ]
     },
     "execution_count": 159,
     "metadata": {},
     "output_type": "execute_result"
    }
   ],
   "source": [
    "df_3"
   ]
  },
  {
   "cell_type": "code",
   "execution_count": 294,
   "metadata": {},
   "outputs": [],
   "source": [
    "trace10 = go.Bar(\n",
    "    x=['8', '9','10'],\n",
    "    y=[0.014716, 0.027143,0.063030],\n",
    "    marker=dict(\n",
    "        color=['rgba(222,45,38,0.8)','rgba(222,45,38,0.8)','rgba(222,45,38,0.8)']),\n",
    ")\n",
    "\n",
    "data = [trace10]\n",
    "layout = go.Layout(\n",
    "    title='RPI for appfocus84',\n",
    ")\n",
    "\n",
    "fig = go.Figure(data=data, layout=layout)\n",
    "py.iplot(fig, filename='color-bar')"
   ]
  },
  {
   "cell_type": "code",
   "execution_count": 295,
   "metadata": {},
   "outputs": [],
   "source": [
    "data_3.groupby(['UCMonth'])['revenue'].mean().plot()"
   ]
  },
  {
   "cell_type": "code",
   "execution_count": 296,
   "metadata": {},
   "outputs": [],
   "source": [
    "data_3.plot.scatter(x='UCMonth',y='rpc')"
   ]
  },
  {
   "cell_type": "code",
   "execution_count": 297,
   "metadata": {},
   "outputs": [],
   "source": [
    "data_3[data_3.UCMonth==8].rpc.hist()\n",
    "data_3[data_3.UCMonth==9].rpc.hist()\n",
    "data_3[data_3.UCMonth==10].rpc.hist()"
   ]
  },
  {
   "cell_type": "code",
   "execution_count": 246,
   "metadata": {},
   "outputs": [],
   "source": [
    "# as we can see, the factor that affects the change in RPI is the avg click time per month(RPC) , which will also decay with time.\n",
    "# and RPC will coverage to 0.40 and 0.44 over time. based on the given data, the potential effect that results in different RPC is from the browser.\n",
    "# but we still need more information to discover this"
   ]
  },
  {
   "cell_type": "code",
   "execution_count": null,
   "metadata": {},
   "outputs": [],
   "source": [
    "# Q5"
   ]
  },
  {
   "cell_type": "code",
   "execution_count": 270,
   "metadata": {},
   "outputs": [],
   "source": [
    "data_5=mydata[mydata.affiliate=='appfocus1']\n",
    "data_5=data_5[data_5.UCMonth==10]\n",
    "\n",
    "df_googler=data_5[data_5.source=='googlepartner']\n",
    "df_search=data_5[data_5.source=='search']"
   ]
  },
  {
   "cell_type": "code",
   "execution_count": null,
   "metadata": {},
   "outputs": [],
   "source": [
    "# data_5.groupby(['age'])"
   ]
  },
  {
   "cell_type": "code",
   "execution_count": 298,
   "metadata": {},
   "outputs": [],
   "source": [
    "df11=df_googler.groupby(['age'])['revenue','installs'].agg('sum')\n",
    "df11['RPI']=df11.revenue/df11.installs\n",
    "\n",
    "df848=df_search.groupby(['age'])['revenue','installs'].agg('sum')\n",
    "df848['RPI']=df848.revenue/df848.installs\n",
    "\n",
    "trace12 = go.Bar(\n",
    "    x=df11.index,\n",
    "    y=df11.RPI,\n",
    "    name='googlepartner',\n",
    "    marker=dict(\n",
    "        color='rgb(49,130,189)'\n",
    "    )\n",
    ")\n",
    "trace13 = go.Bar(\n",
    "    x=df848.index,\n",
    "    y=df848.RPI,\n",
    "    name='search',\n",
    "    marker=dict(\n",
    "        color='rgb(204,204,204)',\n",
    "    )\n",
    ")\n",
    "\n",
    "data = [trace12, trace13]\n",
    "layout = go.Layout(\n",
    "    xaxis=dict(tickangle=-45),\n",
    "    barmode='group',\n",
    ")\n",
    "\n",
    "fig = go.Figure(data=data, layout=layout)\n",
    "py.iplot(fig, filename='angled-text-bar')"
   ]
  },
  {
   "cell_type": "code",
   "execution_count": null,
   "metadata": {},
   "outputs": [],
   "source": [
    "# source 'Search' has a better time decay "
   ]
  },
  {
   "cell_type": "code",
   "execution_count": null,
   "metadata": {},
   "outputs": [],
   "source": []
  },
  {
   "cell_type": "code",
   "execution_count": null,
   "metadata": {},
   "outputs": [],
   "source": []
  },
  {
   "cell_type": "code",
   "execution_count": null,
   "metadata": {},
   "outputs": [],
   "source": []
  }
 ],
 "metadata": {
  "kernelspec": {
   "display_name": "Python 3",
   "language": "python",
   "name": "python3"
  },
  "language_info": {
   "codemirror_mode": {
    "name": "ipython",
    "version": 3
   },
   "file_extension": ".py",
   "mimetype": "text/x-python",
   "name": "python",
   "nbconvert_exporter": "python",
   "pygments_lexer": "ipython3",
   "version": "3.6.5"
  }
 },
 "nbformat": 4,
 "nbformat_minor": 2
}
